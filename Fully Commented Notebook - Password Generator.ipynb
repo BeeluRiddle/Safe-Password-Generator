{
 "cells": [
  {
   "attachments": {},
   "cell_type": "markdown",
   "metadata": {},
   "source": [
    "# Beel's Safe Password Generator"
   ]
  },
  {
   "attachments": {},
   "cell_type": "markdown",
   "metadata": {},
   "source": [
    "Welcome! <br>\n",
    "In this notebook I'll guide you through how I made 3 password generators, from basic to advanced, using pythong and only 3 libraries. <br>\n",
    "*Version 1.0 - May 2023*"
   ]
  },
  {
   "attachments": {},
   "cell_type": "markdown",
   "metadata": {},
   "source": [
    "---"
   ]
  },
  {
   "attachments": {},
   "cell_type": "markdown",
   "metadata": {},
   "source": [
    "Importing Necessary Libraries"
   ]
  },
  {
   "cell_type": "code",
   "execution_count": 112,
   "metadata": {},
   "outputs": [],
   "source": [
    "import string\n",
    "    # This library contains all possible character a password can have.\n",
    "\n",
    "import random\n",
    "    # This library will allow us to generate a random set of characters provided by the library \"String\".\n",
    "\n",
    "import time\n",
    "    # This library lets us space the printing by seconds. It's purely aesthetic choice."
   ]
  },
  {
   "attachments": {},
   "cell_type": "markdown",
   "metadata": {},
   "source": [
    "### Basic Password Generator:"
   ]
  },
  {
   "attachments": {},
   "cell_type": "markdown",
   "metadata": {},
   "source": [
    "We begin by creating a variable that will have the imput of the user, and that imput will be a number which will tell how long the password will be. "
   ]
  },
  {
   "cell_type": "code",
   "execution_count": 113,
   "metadata": {},
   "outputs": [],
   "source": [
    "length = int(input(\"How many characters would you like your password to have?\"))"
   ]
  },
  {
   "attachments": {},
   "cell_type": "markdown",
   "metadata": {},
   "source": [
    "Then we define the 'char' variable which contains all the relevant modules for characters, then we create another variable called 'password' to create set password, the length previously provided by the user above."
   ]
  },
  {
   "cell_type": "code",
   "execution_count": 114,
   "metadata": {},
   "outputs": [],
   "source": [
    "char = string.ascii_letters + string.digits + string.punctuation\n",
    "password = \"\".join(random.choice(char) for i in range(length))"
   ]
  },
  {
   "attachments": {},
   "cell_type": "markdown",
   "metadata": {},
   "source": [
    "Finally, we print the password to see it."
   ]
  },
  {
   "cell_type": "code",
   "execution_count": 115,
   "metadata": {},
   "outputs": [
    {
     "name": "stdout",
     "output_type": "stream",
     "text": [
      "Your new safe password is: }|nwPmC;\n"
     ]
    }
   ],
   "source": [
    "print(\"Your new safe password is: \" + password)"
   ]
  },
  {
   "attachments": {},
   "cell_type": "markdown",
   "metadata": {},
   "source": [
    "---"
   ]
  },
  {
   "attachments": {},
   "cell_type": "markdown",
   "metadata": {},
   "source": [
    "### Intermediate Password Generator:"
   ]
  },
  {
   "attachments": {},
   "cell_type": "markdown",
   "metadata": {},
   "source": [
    "Here are two main things we add: \n",
    "* A score, to tell how strong your password is. \n",
    "* A while cycle to make sure the user is writing a number as input, and not a string."
   ]
  },
  {
   "attachments": {},
   "cell_type": "markdown",
   "metadata": {},
   "source": [
    "First we set up the scoring system, based on how long it is, if it has upper and lower cases, numbers and punctuation characters. <br>\n",
    "Everything contained in a function to make the code clean and efficient. <br>\n",
    "* The maximum amount of points you can get is 5, and the lower is 0."
   ]
  },
  {
   "cell_type": "code",
   "execution_count": 116,
   "metadata": {},
   "outputs": [],
   "source": [
    "def password_strength(password):\n",
    "    points = 0 # Password starts with 0 points and then it evaluates the following conditions to add points. \n",
    "\n",
    "    if len(password) >= 8:\n",
    "        points += 1\n",
    "    \n",
    "    if any(c.isupper() for c in password) and any(c.islower() for c in password):\n",
    "        points += 1\n",
    "    \n",
    "    if any(c.isdigit() for c in password):\n",
    "        points += 1\n",
    "    \n",
    "    if any(c for c in password if c in string.punctuation):\n",
    "        points += 1\n",
    "    \n",
    "    if len(password) >= 12:\n",
    "        points += 1\n",
    "    \n",
    "    return points"
   ]
  },
  {
   "attachments": {},
   "cell_type": "markdown",
   "metadata": {},
   "source": [
    "Then we create a function for the generator to hold all the code and make it cleaner. <br>\n",
    "* We add a 'while' to make sure the user inputs only a valid number. \n",
    "* There's also a limited amount of attempts to force a break in the while loop. \n",
    "* Once all of the seven attempts are used, the program ends and you don't get a password. \n",
    "* The rest of the code is the same as the basic. "
   ]
  },
  {
   "cell_type": "code",
   "execution_count": 117,
   "metadata": {},
   "outputs": [],
   "source": [
    "def password_gen():\n",
    "    number_of_inputs = 1 #it starts with one, since it's your first try.\n",
    "    while number_of_inputs <=7 : #Here we tell how many attempts you have.\n",
    "        try:\n",
    "            length = int(input(\"How many characters would you like your password to have?\"))\n",
    "            break # If the input is correct, the while loop breaks and continues with the password.\n",
    "        except ValueError:\n",
    "            print(\"Error: Only numbers are valid imputs. Number of attempts left: \" + str((7 - number_of_inputs)))\n",
    "            number_of_inputs += 1 #for every wrong input, we add a +1 to 'number_of_inputs\".\n",
    "    else:\n",
    "        print(\"Maximun amount of attempts achieved. Try again in a few minutes.\")\n",
    "        return\n",
    "\n",
    "    #This next lines of code are the same as the basic code.\n",
    "    char = string.ascii_letters + string.digits + string.punctuation\n",
    "    password = \"\".join(random.choice(char) for i in range(length))\n",
    "\n",
    "    #Here we set the scoring with starts and a word-rating.\n",
    "    score = password_strength(password)\n",
    "    \n",
    "    if score == 0:\n",
    "        final_score = \"☆☆☆☆☆ (Unusable)\"\n",
    "    elif score == 1:\n",
    "        final_score = \"★☆☆☆☆ (Weak)\"\n",
    "    elif score == 2:\n",
    "        final_score = \"★★☆☆☆ (Decent)\"\n",
    "    elif score == 3:\n",
    "        final_score = \"★★★☆☆ (Strong)\"\n",
    "    elif score == 4:\n",
    "        final_score = \"★★★★☆ (Excellent)\"\n",
    "    else:\n",
    "        final_score = \"★★★★★ (POWERFUL)\"\n",
    "    \n",
    "    #Finally, we not only print the password, but the score aswell.\n",
    "    print(\"Your new safe password is: \" + password)\n",
    "    print(\"Password Strength: \" + final_score)"
   ]
  },
  {
   "attachments": {},
   "cell_type": "markdown",
   "metadata": {},
   "source": [
    "To use the generator, we simply run the next line and follow the steps."
   ]
  },
  {
   "cell_type": "code",
   "execution_count": 118,
   "metadata": {},
   "outputs": [
    {
     "name": "stdout",
     "output_type": "stream",
     "text": [
      "Error: Only numbers are valid imputs. Number of attempts left: 6\n",
      "Error: Only numbers are valid imputs. Number of attempts left: 5\n",
      "Error: Only numbers are valid imputs. Number of attempts left: 4\n",
      "Your new safe password is: 6IfzB_z\n",
      "Password Strength: ★★★☆☆ (Strong)\n"
     ]
    }
   ],
   "source": [
    "password_gen()"
   ]
  },
  {
   "attachments": {},
   "cell_type": "markdown",
   "metadata": {},
   "source": [
    "---"
   ]
  },
  {
   "attachments": {},
   "cell_type": "markdown",
   "metadata": {},
   "source": [
    "### Advanced Password Generator:"
   ]
  },
  {
   "attachments": {},
   "cell_type": "markdown",
   "metadata": {},
   "source": [
    "For this last one we take everything done so far and take it to the next level of user experience. <br>\n",
    "Here we are going to add a lot of aesthetic lines of code to make the process of generating a password a real user-friendly experience, as well as more functions to give power to the user when it comes to what charaters the password will have. "
   ]
  },
  {
   "attachments": {},
   "cell_type": "markdown",
   "metadata": {},
   "source": [
    "First, let's make a menu with a welcome message. <br>\n",
    "* Here is where we use Python's time module to space the multiple printing we will use. "
   ]
  },
  {
   "cell_type": "code",
   "execution_count": 119,
   "metadata": {},
   "outputs": [
    {
     "name": "stdout",
     "output_type": "stream",
     "text": [
      "Welcome to Beel's Password Generator.\n",
      "I will ask you some questions to generate your password. To answer, simply type 'y' for yes, or 'n' for no.\n",
      "Ready to start? (Y/N)\n",
      "Please write the corresponding letter to your question: \n",
      "a) What questions will I be asked?\n",
      "b) Will my password be stored anywhere?\n",
      "c) Where do I type the yes or no answer?\n",
      "I will ask you whether or not you would like your password to have any of the following: \n",
      "-Lower Case characters\n",
      "-Upper Case characters\n",
      "-Numbers\n",
      "-Special characters\n",
      "Do you have any other questions?\n",
      "Please run the code called 'password_gen' to begin!\n"
     ]
    }
   ],
   "source": [
    "print(\"Welcome to Beel's Password Generator.\")\n",
    "time.sleep(3) #Each number between brakets tells how many seconds of waiting before continuing with the next line. \n",
    "print(\"I will ask you some questions to generate your password. To answer, simply type 'y' for yes, or 'n' for no.\")\n",
    "time.sleep(5)\n",
    "print(\"Ready to start? (Y/N)\")\n",
    "begin = str(input(\"Ready to start?\")) #First Imput of the user. \n",
    "\n",
    "if begin == \"y\":\n",
    "    print(\"Please run the code called 'password_gen' to begin!\") #This block of code finishes and the user can continue with the generator bellow. \n",
    "else: # If the user inputs \"n\" then the menu with some generic questions pops-up as a menu, and the user can select the question they want to get an answer. \n",
    "    ask_questions = True\n",
    "    while ask_questions: \n",
    "        print(\"Please write the corresponding letter to your question: \")\n",
    "        time.sleep(3)\n",
    "        print(\"a) What questions will I be asked?\")\n",
    "        print(\"b) Will my password be stored anywhere?\")\n",
    "        print(\"c) Where do I type the yes or no answer?\")\n",
    "        question = str(input(\"Please type a letter:\"))\n",
    "        \n",
    "        if question == \"a\": \n",
    "            print(\"I will ask you whether or not you would like your password to have any of the following: \")\n",
    "            time.sleep(3)\n",
    "            print(\"-Lower Case characters\")\n",
    "            print(\"-Upper Case characters\")\n",
    "            print(\"-Numbers\")\n",
    "            print(\"-Special characters\")\n",
    "            time.sleep(3)\n",
    "            \n",
    "            print(\"Do you have any other questions?\")\n",
    "            menu = str(input(\"Y/N\"))\n",
    "            if menu == \"n\": #If the user does not have any further questions, the while loop breaks and the user can continue with the generator. \n",
    "                            # Otherwise, the loop resets and the user inputs another question.\n",
    "                ask_questions = False\n",
    "        elif question == \"b\":\n",
    "            print(\"As of today, the generated password will not be stored anywhere, therefore you will need to manually save it yourself if it will be used.\")\n",
    "            time.sleep(3)\n",
    "\n",
    "            print(\"Do you have any other questions?\")\n",
    "            menu = str(input(\"Y/N\"))\n",
    "            if menu == \"n\": #Same here as question a.\n",
    "                ask_questions = False    \n",
    "        else: \n",
    "            print(\"Simply type the letter in your keyboard and press Enter to submit your answer.\")\n",
    "            time.sleep(3)\n",
    "\n",
    "            print(\"Do you have any other questions?\")\n",
    "            menu = str(input(\"Y/N\"))\n",
    "            if menu == \"n\": #Same here as questions a and b.\n",
    "                ask_questions = False\n",
    "    \n",
    "    print(\"Please run the code called 'password_gen' to begin!\")"
   ]
  },
  {
   "attachments": {},
   "cell_type": "markdown",
   "metadata": {},
   "source": [
    "Now we continue with Personalization and Password rating. \n",
    "* Personalization: Here we define the function that later on translates to the user deciding whether or not they want certain characters. \n",
    "* Password rating: Same as above, it outputs how strong the final password actually is. "
   ]
  },
  {
   "cell_type": "code",
   "execution_count": 120,
   "metadata": {},
   "outputs": [],
   "source": [
    "'''PERSONALIZATION'''\n",
    "def include_upper_case():\n",
    "    option = input(\"(Y/N)\")\n",
    "    return option.upper() == \"Y\"\n",
    "def include_lower_case():\n",
    "    option = input(\"(Y/N)\")\n",
    "    return option.upper() == \"Y\"\n",
    "def include_numbers():\n",
    "    option = input(\"(Y/N)\")\n",
    "    return option.upper() == \"Y\"\n",
    "def include_special_characters():\n",
    "    option = input(\"(Y/N)\")\n",
    "    return option.upper() == \"Y\"\n",
    "\n",
    "'''PASSWORD RATING'''\n",
    "def password_strength(password):\n",
    "    points = 0\n",
    "    if len(password) >= 8:\n",
    "        points += 1\n",
    "    if any(c.isupper() for c in password) and any(c.islower() for c in password):\n",
    "        points += 1\n",
    "    if any(c.isdigit() for c in password):\n",
    "        points += 1\n",
    "    if any(c for c in password if c in string.punctuation):\n",
    "        points += 1\n",
    "    if len(password) >= 12:\n",
    "        points += 1\n",
    "    return points"
   ]
  },
  {
   "attachments": {},
   "cell_type": "markdown",
   "metadata": {},
   "source": [
    "Finally, we arrive to the generator, again. "
   ]
  },
  {
   "attachments": {},
   "cell_type": "markdown",
   "metadata": {},
   "source": [
    "* The while loop has some minor changes compared to the Intermediate version, such as emojis to add a pop of colour, and an 'Answer' field, to show the user what the input was.\n",
    "* The 'char' variable is now empty, as the user will be the one deciding what pool of characters it will contain. \n",
    "* Then we have a question and an input for every type of character. If the user says yes, it gets added to the variable 'char'. \n",
    "* The scoring has some graphic objects, for user experience only. \n",
    "* Finally, the generator tells you not only your password and the rating (as the intermediate version), but also a small suggestion on what to do with it. "
   ]
  },
  {
   "cell_type": "code",
   "execution_count": 121,
   "metadata": {},
   "outputs": [],
   "source": [
    "def password_gen():\n",
    "    number_of_imputs = 1\n",
    "    while number_of_imputs <= 7:\n",
    "        try:\n",
    "            print(\"🟣 How many characters would you like your password to have?\")\n",
    "            length = int(input(\"Amount of characters\"))\n",
    "            print(\"Answer: \" + str(length))\n",
    "            break\n",
    "        except ValueError:\n",
    "            print(\"Error: Only numbers are valid imputs. Number of attempts left: \" + str((7 - number_of_imputs)))\n",
    "            number_of_imputs += 1\n",
    "    else:\n",
    "        print(\"Maximun amount of attempts achieved. Try again in a few minutes.\")\n",
    "        return\n",
    "\n",
    "    char = \"\"\n",
    "    \n",
    "    print(\"🟣 Would you like any lower case characters?\")\n",
    "    lowercase = include_lower_case()\n",
    "    if lowercase:\n",
    "        char += string.ascii_lowercase\n",
    "    print(lowercase)\n",
    "    time.sleep(1)\n",
    "\n",
    "    print(\"🟣 Would you like any upper case characters? \")\n",
    "    uppercase = include_upper_case()\n",
    "    if uppercase:\n",
    "        char += string.ascii_uppercase\n",
    "    print(uppercase)\n",
    "    time.sleep(1)\n",
    "\n",
    "    print(\"🟣 Would you like any numbers?\")\n",
    "    numbers = include_numbers()\n",
    "    if numbers: \n",
    "        char += string.digits\n",
    "    print(numbers)\n",
    "    time.sleep(1)\n",
    "\n",
    "    print(\"🟣 Would you like special characters? \")\n",
    "    special_characters = include_special_characters()\n",
    "    if special_characters:\n",
    "        char += string.punctuation\n",
    "    print(special_characters)\n",
    "    time.sleep(1)\n",
    "\n",
    "    #This is purely graphic user experience, this four lines don't change the final product.\n",
    "    print(\"⌛~Generating your new password...\")\n",
    "    time.sleep(2)\n",
    "    print(\"⭐~Scoring your new password...\")\n",
    "    time.sleep(2)\n",
    "\n",
    "    #This is the generator itself.\n",
    "    password = \"\".join(random.choice(char) for i in range(length))\n",
    "    \n",
    "    #Scoring.\n",
    "    score = password_strength(password)\n",
    "    if score == 0:\n",
    "        final_score = \"☆☆☆☆☆ 💀 Unusable 💀\"\n",
    "    elif score == 1:\n",
    "        final_score = \"★☆☆☆☆ 🔥 Weak 🔥\"\n",
    "    elif score == 2:\n",
    "        final_score = \"★★☆☆☆ 🚧 Decent 🚧\"\n",
    "    elif score == 3:\n",
    "        final_score = \"★★★☆☆ 🔒 Strong 🔒\"\n",
    "    elif score == 4:\n",
    "        final_score = \"★★★★☆ 🔐 Excellent 🔐\"\n",
    "    else:\n",
    "        final_score = \"★★★★★ 🔰 POWERFUL 🔰\"\n",
    "    \n",
    "    #Final output.\n",
    "    print(\"⟡ Your new safe password is: \" + password + \" ⟡\")\n",
    "    time.sleep(1)\n",
    "    print(\"⟡ Password Strength: \" + final_score)\n",
    "    time.sleep(2)\n",
    "    if score <=3:\n",
    "        print(\"⚠️ Consider generating a new, stronger password to use, since this one is vulnerable. ⚠️\")\n",
    "        time.sleep(1)\n",
    "        print(\"If you still want to use it, please remember that the password generated is not stored anywhere, so store it safely!\")\n",
    "    else: \n",
    "        print(\"⚠️ Please remember that the password generated is not stored anywhere, so store it safely!\")\n",
    "    time.sleep(3)\n",
    "\n",
    "    #Goodbye message:\n",
    "    print(\"Thank you for using Beel's Password Generator.\")"
   ]
  },
  {
   "attachments": {},
   "cell_type": "markdown",
   "metadata": {},
   "source": [
    "Last but certaintly not least, this line execute the generator:"
   ]
  },
  {
   "cell_type": "code",
   "execution_count": 122,
   "metadata": {},
   "outputs": [
    {
     "name": "stdout",
     "output_type": "stream",
     "text": [
      "🟣 How many characters would you like your password to have?\n",
      "Answer: 8\n",
      "🟣 Would you like any lower case characters?\n",
      "True\n",
      "🟣 Would you like any upper case characters? \n",
      "True\n",
      "🟣 Would you like any numbers?\n",
      "True\n",
      "🟣 Would you like special characters? \n",
      "False\n",
      "⌛~Generating your new password...\n",
      "⭐~Scoring your new password...\n",
      "⟡ Your new safe password is: WB0ctz8S ⟡\n",
      "⟡ Password Strength: ★★★☆☆ 🔒 Strong 🔒\n",
      "⚠️ Consider generating a new, stronger password to use, since this one is vulnerable. ⚠️\n",
      "If you still want to use it, please remember that the password generated is not stored anywhere, so store it safely!\n",
      "Thank you for using Beel's Password Generator.\n"
     ]
    }
   ],
   "source": [
    "password_gen()"
   ]
  },
  {
   "attachments": {},
   "cell_type": "markdown",
   "metadata": {},
   "source": [
    "---"
   ]
  },
  {
   "attachments": {},
   "cell_type": "markdown",
   "metadata": {},
   "source": [
    "## Future ideas for this project: "
   ]
  },
  {
   "attachments": {},
   "cell_type": "markdown",
   "metadata": {},
   "source": [
    "* Add a saving option, with encription. \n",
    "* Add a graphic interface, just for fun."
   ]
  },
  {
   "attachments": {},
   "cell_type": "markdown",
   "metadata": {},
   "source": [
    "I hope you find this project useful and inspiring! <br>\n",
    "Remember that there are 3 .py files for each version, without comments, for you to quickly test them out. <br>\n",
    "Thank you so much for reading and testing. Let me know if there are some improvements I could do. <br>\n",
    "Byee~"
   ]
  },
  {
   "attachments": {},
   "cell_type": "markdown",
   "metadata": {},
   "source": [
    "⟡ Contact Info ⟡ <br>\n",
    "[Github](https://github.com/BeeluRiddle) - BeeluRiddle<br>\n",
    "[Linkedin](https://www.linkedin.com/in/belenzapata6/) - belenzapata6<br>"
   ]
  },
  {
   "attachments": {},
   "cell_type": "markdown",
   "metadata": {},
   "source": [
    "---"
   ]
  }
 ],
 "metadata": {
  "kernelspec": {
   "display_name": "Python 3",
   "language": "python",
   "name": "python3"
  },
  "language_info": {
   "codemirror_mode": {
    "name": "ipython",
    "version": 3
   },
   "file_extension": ".py",
   "mimetype": "text/x-python",
   "name": "python",
   "nbconvert_exporter": "python",
   "pygments_lexer": "ipython3",
   "version": "3.10.11"
  },
  "orig_nbformat": 4
 },
 "nbformat": 4,
 "nbformat_minor": 2
}
